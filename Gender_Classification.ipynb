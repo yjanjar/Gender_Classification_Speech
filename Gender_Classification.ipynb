{
 "cells": [
  {
   "cell_type": "markdown",
   "metadata": {},
   "source": [
    "# Gender Classification Based on Speech."
   ]
  },
  {
   "cell_type": "code",
   "execution_count": 3,
   "metadata": {},
   "outputs": [],
   "source": [
    "import numpy as np\n",
    "import keras\n",
    "import matplotlib.pyplot as plt\n",
    "import random\n",
    "import os\n",
    "import sys\n",
    "from pathlib import Path\n",
    "from helpers import *\n",
    "import warnings\n",
    "warnings.filterwarnings(action='once')\n",
    "\n",
    "import soundfile as sf \n",
    "import python_speech_features as feat \n",
    "\n",
    "from sklearn.model_selection import train_test_split\n",
    "from sklearn.naive_bayes import GaussianNB\n",
    "from sklearn.linear_model import LogisticRegression\n",
    "from sklearn import svm\n",
    "from sklearn.neural_network import MLPClassifier\n",
    "from sklearn.model_selection import GridSearchCV\n",
    "from sklearn.metrics import accuracy_score\n",
    "from sklearn.metrics import classification_report\n",
    "from sklearn.metrics import confusion_matrix\n",
    "\n",
    "from time import time\n",
    "from keras.callbacks import History, ReduceLROnPlateau, TensorBoard, ModelCheckpoint, EarlyStopping\n",
    "\n",
    "import seaborn as sn\n",
    "import pandas as pd"
   ]
  },
  {
   "cell_type": "code",
   "execution_count": 18,
   "metadata": {},
   "outputs": [],
   "source": [
    "# General predefined variables.\n",
    "seed = 0\n",
    "winlen = 0.025\n",
    "nfft = 512\n",
    "numcep = 50 \n",
    "\n",
    "dataSize = 50\n",
    "seed = 123\n",
    "dropout_fraction = 0.5\n"
   ]
  },
  {
   "cell_type": "markdown",
   "metadata": {},
   "source": [
    "# 1) Creating the Dataset."
   ]
  },
  {
   "cell_type": "markdown",
   "metadata": {},
   "source": [
    "### Reading the readers.TXT file and parsing it. Male label being 0 and female label being 1."
   ]
  },
  {
   "cell_type": "code",
   "execution_count": 12,
   "metadata": {
    "scrolled": true
   },
   "outputs": [
    {
     "name": "stdout",
     "output_type": "stream",
     "text": [
      "(40, 2)\n"
     ]
    },
    {
     "data": {
      "text/plain": [
       "(None, numpy.ndarray)"
      ]
     },
     "execution_count": 12,
     "metadata": {},
     "output_type": "execute_result"
    }
   ],
   "source": [
    "#Path to data.\n",
    "path='LibriSpeech/dev-clean'\n",
    "\n",
    "with open('LibriSpeech/SPEAKERS.TXT') as f:\n",
    "    raw_lines = f.readlines() \n",
    "    \n",
    "IDs = np.array([], dtype=int)\n",
    "G = np.array([], dtype=int)\n",
    "\n",
    "\n",
    "for line in raw_lines:\n",
    "    if 'dev-clean' in line:\n",
    "        IDs = np.append(IDs, int(line.split('|')[0]))\n",
    "        \n",
    "        if 'M' in line.split('|')[1]:\n",
    "            G = np.append(G,0)\n",
    "        elif 'F' in line.split('|')[1]:\n",
    "            G = np.append(G,1)\n",
    "            \n",
    "IDs = np.expand_dims(IDs, axis=1)\n",
    "G = np.expand_dims(G,axis=1)\n",
    "            \n",
    "readers_data = np.concatenate([IDs,G],axis=1)\n",
    "\n",
    "print(readers_data.shape),type(readers_data)"
   ]
  },
  {
   "cell_type": "markdown",
   "metadata": {},
   "source": [
    "### Split the readers between Male and Female."
   ]
  },
  {
   "cell_type": "markdown",
   "metadata": {},
   "source": [
    "For obvious reasonns we don't want to use the same speakers in training and test so we split the dataset at a speaker level."
   ]
  },
  {
   "cell_type": "code",
   "execution_count": 27,
   "metadata": {},
   "outputs": [
    {
     "data": {
      "text/plain": [
       "((32, 2), (8, 2))"
      ]
     },
     "execution_count": 27,
     "metadata": {},
     "output_type": "execute_result"
    }
   ],
   "source": [
    "M_readers = readers_data[readers_data[:,1]==0]\n",
    "F_readers = readers_data[readers_data[:,1]==1]\n",
    "M_readers.shape, F_readers.shape\n",
    "#Perctly balanced dataset.\n",
    "split_ratio = 0.80\n",
    "\n",
    "train_IDs, test_IDs = train_test(M_readers,split_ratio)\n",
    "M_train, M_test = M_readers[train_IDs], M_readers[test_IDs]\n",
    "\n",
    "train_IDs, test_IDs = train_test(F_readers,split_ratio)\n",
    "F_train, F_test = F_readers[train_IDs], F_readers[test_IDs]\n",
    "M_train.shape,F_train.shape\n",
    "\n",
    "train_readers, test_readers = np.concatenate([M_train,F_train],axis=0), np.concatenate([M_test,F_test],axis=0)\n",
    "train_readers.shape , test_readers.shape"
   ]
  },
  {
   "cell_type": "markdown",
   "metadata": {},
   "source": [
    "### Features extraction: Create the dataset from the .flac files associated with all_readers."
   ]
  },
  {
   "cell_type": "markdown",
   "metadata": {},
   "source": [
    "We use MFCCs as our features for this classification tasks. We used python_speech_features library and kept almost all paramerters to default setting for the features extraction. The only parameter that made a significant impact on the performance of the models was numcep (the number of cepstrums) and 50 is the one that works the best from the few i tried. Atfer getting a feature vector for each frame, we average the values of the features from the same .flac file using a simple mean. One could use more complex averaging methods but in this case a simple mean acheived pretty nice results."
   ]
  },
  {
   "cell_type": "code",
   "execution_count": 28,
   "metadata": {
    "scrolled": false
   },
   "outputs": [
    {
     "name": "stdout",
     "output_type": "stream",
     "text": [
      "CPU times: user 1min 14s, sys: 17.9 s, total: 1min 32s\n",
      "Wall time: 53.2 s\n"
     ]
    }
   ],
   "source": [
    "%%time\n",
    "\n",
    "train_data, train_G = dataset_from_readers(train_readers,path)\n",
    "test_data, test_G = dataset_from_readers(test_readers,path)"
   ]
  },
  {
   "cell_type": "markdown",
   "metadata": {},
   "source": [
    "### Normalize the data before feeding it to the Models."
   ]
  },
  {
   "cell_type": "code",
   "execution_count": 31,
   "metadata": {},
   "outputs": [
    {
     "data": {
      "text/plain": [
       "((2162, 50), (541, 50), numpy.float64)"
      ]
     },
     "execution_count": 31,
     "metadata": {},
     "output_type": "execute_result"
    }
   ],
   "source": [
    "train_data, test_data = normalize_data(train_data),normalize_data(test_data)\n",
    "train_data.shape, test_data.shape,type(test_G[0][0])"
   ]
  },
  {
   "cell_type": "markdown",
   "metadata": {},
   "source": [
    "# 2) Modelization."
   ]
  },
  {
   "cell_type": "code",
   "execution_count": 32,
   "metadata": {},
   "outputs": [],
   "source": [
    "#Reshaping the data to the format expected by sklearn models.\n",
    "train_G , test_G = train_G.reshape(train_G.shape[0],),test_G.reshape(test_G.shape[0],)"
   ]
  },
  {
   "cell_type": "markdown",
   "metadata": {},
   "source": [
    "### Baseline: Dummy model (Always outputs Male)."
   ]
  },
  {
   "cell_type": "code",
   "execution_count": 33,
   "metadata": {},
   "outputs": [
    {
     "name": "stdout",
     "output_type": "stream",
     "text": [
      "Test Accuracy :  0.47689463955637706\n"
     ]
    }
   ],
   "source": [
    "#Prediction of the dummy model\n",
    "y_pred = np.zeros(shape=test_G.shape, dtype=float)\n",
    "acc = accuracy_score(test_G, y_pred)\n",
    "\n",
    "#Results on the testset.\n",
    "print(\"Test Accuracy : \", acc)"
   ]
  },
  {
   "cell_type": "markdown",
   "metadata": {},
   "source": [
    "This tells us that our .flac dataset is a little bit imbalanced, we could use weights to even it out but we will see with the following that for this specific classification problem it won't be neccessary. This also set the base to arbitrary classification and gives us a first target to beat."
   ]
  },
  {
   "cell_type": "markdown",
   "metadata": {},
   "source": [
    "### Naive Bayes Classifier."
   ]
  },
  {
   "cell_type": "code",
   "execution_count": 34,
   "metadata": {},
   "outputs": [
    {
     "name": "stdout",
     "output_type": "stream",
     "text": [
      "Training Accuracy :  0.9250693802035153\n",
      "Test Accuracy :  0.9260628465804066\n",
      " \n",
      "                       Classification report.\n",
      "\n",
      "              precision    recall  f1-score   support\n",
      "\n",
      "         0.0       0.93      0.91      0.92       258\n",
      "         1.0       0.92      0.94      0.93       283\n",
      "\n",
      "   micro avg       0.93      0.93      0.93       541\n",
      "   macro avg       0.93      0.93      0.93       541\n",
      "weighted avg       0.93      0.93      0.93       541\n",
      "\n"
     ]
    },
    {
     "data": {
      "image/png": "[encoded data removed]",
      "text/plain": [
       "<Figure size 504x288 with 2 Axes>"
      ]
     },
     "metadata": {},
     "output_type": "display_data"
    }
   ],
   "source": [
    "#Create the model.\n",
    "model = GaussianNB()\n",
    "\n",
    "#Train the model.\n",
    "model.fit(train_data,train_G)\n",
    "\n",
    "#Results on the testset.\n",
    "train_accuracy = model.score(train_data,train_G)\n",
    "print(\"Training Accuracy : \", train_accuracy)\n",
    "test_accuracy = model.score(test_data,test_G)\n",
    "print(\"Test Accuracy : \", test_accuracy)\n",
    "\n",
    "visu_results(model,test_data,test_G)"
   ]
  },
  {
   "cell_type": "markdown",
   "metadata": {},
   "source": [
    "### Logistic Regression Classifier."
   ]
  },
  {
   "cell_type": "code",
   "execution_count": 35,
   "metadata": {},
   "outputs": [
    {
     "name": "stdout",
     "output_type": "stream",
     "text": [
      "Training Accuracy :  0.9791859389454209\n",
      "Test Accuracy :  0.966728280961183\n",
      " \n",
      "                       Classification report.\n",
      "\n",
      "              precision    recall  f1-score   support\n",
      "\n",
      "         0.0       0.96      0.97      0.97       258\n",
      "         1.0       0.97      0.96      0.97       283\n",
      "\n",
      "   micro avg       0.97      0.97      0.97       541\n",
      "   macro avg       0.97      0.97      0.97       541\n",
      "weighted avg       0.97      0.97      0.97       541\n",
      "\n"
     ]
    },
    {
     "data": {
      "image/png": "[encoded data removed]",
      "text/plain": [
       "<Figure size 504x288 with 2 Axes>"
      ]
     },
     "metadata": {},
     "output_type": "display_data"
    }
   ],
   "source": [
    "#Create the model\n",
    "model = LogisticRegression(random_state=0,solver='lbfgs')\n",
    "\n",
    "#Train the model.\n",
    "model.fit(train_data,train_G)\n",
    "\n",
    "#Results on the test set.\n",
    "train_accuracy = model.score(train_data,train_G)\n",
    "print(\"Training Accuracy : \", train_accuracy)\n",
    "test_accuracy = model.score(test_data,test_G)\n",
    "print(\"Test Accuracy : \", test_accuracy)\n",
    "\n",
    "visu_results(model,test_data,test_G)"
   ]
  },
  {
   "cell_type": "markdown",
   "metadata": {},
   "source": [
    "### Classic Feed Forward Neural Network (MLP)."
   ]
  },
  {
   "cell_type": "code",
   "execution_count": 36,
   "metadata": {
    "scrolled": false
   },
   "outputs": [
    {
     "name": "stdout",
     "output_type": "stream",
     "text": [
      "Best parameters found:\n",
      " {'activation': 'tanh', 'alpha': 0.1, 'hidden_layer_sizes': (10, 5), 'learning_rate': 'constant', 'solver': 'lbfgs'}\n",
      "0.980 (+/-0.012) for {'activation': 'tanh', 'alpha': 0.1, 'hidden_layer_sizes': (5, 5), 'learning_rate': 'constant', 'solver': 'lbfgs'}\n",
      "0.979 (+/-0.016) for {'activation': 'tanh', 'alpha': 0.1, 'hidden_layer_sizes': (5, 5), 'learning_rate': 'constant', 'solver': 'adam'}\n",
      "0.980 (+/-0.012) for {'activation': 'tanh', 'alpha': 0.1, 'hidden_layer_sizes': (5, 5), 'learning_rate': 'adaptive', 'solver': 'lbfgs'}\n",
      "0.979 (+/-0.016) for {'activation': 'tanh', 'alpha': 0.1, 'hidden_layer_sizes': (5, 5), 'learning_rate': 'adaptive', 'solver': 'adam'}\n",
      "0.987 (+/-0.010) for {'activation': 'tanh', 'alpha': 0.1, 'hidden_layer_sizes': (10, 5), 'learning_rate': 'constant', 'solver': 'lbfgs'}\n",
      "0.978 (+/-0.014) for {'activation': 'tanh', 'alpha': 0.1, 'hidden_layer_sizes': (10, 5), 'learning_rate': 'constant', 'solver': 'adam'}\n",
      "0.987 (+/-0.010) for {'activation': 'tanh', 'alpha': 0.1, 'hidden_layer_sizes': (10, 5), 'learning_rate': 'adaptive', 'solver': 'lbfgs'}\n",
      "0.978 (+/-0.014) for {'activation': 'tanh', 'alpha': 0.1, 'hidden_layer_sizes': (10, 5), 'learning_rate': 'adaptive', 'solver': 'adam'}\n",
      "0.975 (+/-0.007) for {'activation': 'tanh', 'alpha': 0.05, 'hidden_layer_sizes': (5, 5), 'learning_rate': 'constant', 'solver': 'lbfgs'}\n",
      "0.977 (+/-0.015) for {'activation': 'tanh', 'alpha': 0.05, 'hidden_layer_sizes': (5, 5), 'learning_rate': 'constant', 'solver': 'adam'}\n",
      "0.975 (+/-0.007) for {'activation': 'tanh', 'alpha': 0.05, 'hidden_layer_sizes': (5, 5), 'learning_rate': 'adaptive', 'solver': 'lbfgs'}\n",
      "0.977 (+/-0.015) for {'activation': 'tanh', 'alpha': 0.05, 'hidden_layer_sizes': (5, 5), 'learning_rate': 'adaptive', 'solver': 'adam'}\n",
      "0.980 (+/-0.009) for {'activation': 'tanh', 'alpha': 0.05, 'hidden_layer_sizes': (10, 5), 'learning_rate': 'constant', 'solver': 'lbfgs'}\n",
      "0.978 (+/-0.014) for {'activation': 'tanh', 'alpha': 0.05, 'hidden_layer_sizes': (10, 5), 'learning_rate': 'constant', 'solver': 'adam'}\n",
      "0.980 (+/-0.009) for {'activation': 'tanh', 'alpha': 0.05, 'hidden_layer_sizes': (10, 5), 'learning_rate': 'adaptive', 'solver': 'lbfgs'}\n",
      "0.978 (+/-0.014) for {'activation': 'tanh', 'alpha': 0.05, 'hidden_layer_sizes': (10, 5), 'learning_rate': 'adaptive', 'solver': 'adam'}\n",
      "0.985 (+/-0.011) for {'activation': 'relu', 'alpha': 0.1, 'hidden_layer_sizes': (5, 5), 'learning_rate': 'constant', 'solver': 'lbfgs'}\n",
      "0.985 (+/-0.015) for {'activation': 'relu', 'alpha': 0.1, 'hidden_layer_sizes': (5, 5), 'learning_rate': 'constant', 'solver': 'adam'}\n",
      "0.985 (+/-0.011) for {'activation': 'relu', 'alpha': 0.1, 'hidden_layer_sizes': (5, 5), 'learning_rate': 'adaptive', 'solver': 'lbfgs'}\n",
      "0.985 (+/-0.015) for {'activation': 'relu', 'alpha': 0.1, 'hidden_layer_sizes': (5, 5), 'learning_rate': 'adaptive', 'solver': 'adam'}\n",
      "0.985 (+/-0.007) for {'activation': 'relu', 'alpha': 0.1, 'hidden_layer_sizes': (10, 5), 'learning_rate': 'constant', 'solver': 'lbfgs'}\n",
      "0.976 (+/-0.006) for {'activation': 'relu', 'alpha': 0.1, 'hidden_layer_sizes': (10, 5), 'learning_rate': 'constant', 'solver': 'adam'}\n",
      "0.985 (+/-0.007) for {'activation': 'relu', 'alpha': 0.1, 'hidden_layer_sizes': (10, 5), 'learning_rate': 'adaptive', 'solver': 'lbfgs'}\n",
      "0.976 (+/-0.006) for {'activation': 'relu', 'alpha': 0.1, 'hidden_layer_sizes': (10, 5), 'learning_rate': 'adaptive', 'solver': 'adam'}\n",
      "0.983 (+/-0.018) for {'activation': 'relu', 'alpha': 0.05, 'hidden_layer_sizes': (5, 5), 'learning_rate': 'constant', 'solver': 'lbfgs'}\n",
      "0.986 (+/-0.016) for {'activation': 'relu', 'alpha': 0.05, 'hidden_layer_sizes': (5, 5), 'learning_rate': 'constant', 'solver': 'adam'}\n",
      "0.983 (+/-0.018) for {'activation': 'relu', 'alpha': 0.05, 'hidden_layer_sizes': (5, 5), 'learning_rate': 'adaptive', 'solver': 'lbfgs'}\n",
      "0.986 (+/-0.016) for {'activation': 'relu', 'alpha': 0.05, 'hidden_layer_sizes': (5, 5), 'learning_rate': 'adaptive', 'solver': 'adam'}\n",
      "0.981 (+/-0.007) for {'activation': 'relu', 'alpha': 0.05, 'hidden_layer_sizes': (10, 5), 'learning_rate': 'constant', 'solver': 'lbfgs'}\n",
      "0.974 (+/-0.008) for {'activation': 'relu', 'alpha': 0.05, 'hidden_layer_sizes': (10, 5), 'learning_rate': 'constant', 'solver': 'adam'}\n",
      "0.981 (+/-0.007) for {'activation': 'relu', 'alpha': 0.05, 'hidden_layer_sizes': (10, 5), 'learning_rate': 'adaptive', 'solver': 'lbfgs'}\n",
      "0.974 (+/-0.008) for {'activation': 'relu', 'alpha': 0.05, 'hidden_layer_sizes': (10, 5), 'learning_rate': 'adaptive', 'solver': 'adam'}\n"
     ]
    }
   ],
   "source": [
    "#Create the model.\n",
    "model = MLPClassifier(random_state=0, max_iter=200)\n",
    "\n",
    "\n",
    "# Space on which the GS is performed.\n",
    "parameter_space = {\n",
    "    'hidden_layer_sizes': [(5,5), (10,5)],\n",
    "    'activation': ['tanh', 'relu'],\n",
    "    'solver': ['lbfgs', 'adam'],\n",
    "    'alpha': [0.1, 0.05],\n",
    "    'learning_rate': ['constant','adaptive'],\n",
    "}\n",
    "\n",
    "#Create the GS.\n",
    "model = GridSearchCV(model, parameter_space, n_jobs=-1, cv=3)\n",
    "\n",
    "#Train the model.\n",
    "model.fit(train_data, train_G)\n",
    "\n",
    "# Best parameters set\n",
    "print('Best parameters found:\\n', model.best_params_)\n",
    "\n",
    "# All results\n",
    "means = model.cv_results_['mean_test_score']\n",
    "stds = model.cv_results_['std_test_score']\n",
    "\n",
    "for mean, std, params in zip(means, stds, model.cv_results_['params']):\n",
    "    print(\"%0.3f (+/-%0.03f) for %r\" % (mean, std * 2, params))"
   ]
  },
  {
   "cell_type": "code",
   "execution_count": 37,
   "metadata": {},
   "outputs": [
    {
     "name": "stdout",
     "output_type": "stream",
     "text": [
      "Training Accuracy :  1.0\n",
      "Test Accuracy :  0.9852125693160814\n",
      " \n",
      "                       Classification report.\n",
      "\n",
      "              precision    recall  f1-score   support\n",
      "\n",
      "         0.0       0.97      1.00      0.98       258\n",
      "         1.0       1.00      0.98      0.99       283\n",
      "\n",
      "   micro avg       0.99      0.99      0.99       541\n",
      "   macro avg       0.98      0.99      0.99       541\n",
      "weighted avg       0.99      0.99      0.99       541\n",
      "\n"
     ]
    },
    {
     "data": {
      "image/png": "[encoded data removed]",
      "text/plain": [
       "<Figure size 504x288 with 2 Axes>"
      ]
     },
     "metadata": {},
     "output_type": "display_data"
    }
   ],
   "source": [
    "#Results on the test set.\n",
    "train_accuracy = model.score(train_data,train_G)\n",
    "print(\"Training Accuracy : \", train_accuracy)\n",
    "test_accuracy = model.score(test_data,test_G)\n",
    "print(\"Test Accuracy : \", test_accuracy)\n",
    "\n",
    "visu_results(model,test_data,test_G)        "
   ]
  },
  {
   "cell_type": "markdown",
   "metadata": {},
   "source": [
    "## Convolutional Neural Network. Implemented using Keras."
   ]
  },
  {
   "cell_type": "markdown",
   "metadata": {},
   "source": [
    "#### Sanity check: Prepare the data to feed it to the keras model."
   ]
  },
  {
   "cell_type": "code",
   "execution_count": 38,
   "metadata": {},
   "outputs": [
    {
     "data": {
      "text/plain": [
       "((2162,), (541,))"
      ]
     },
     "execution_count": 38,
     "metadata": {},
     "output_type": "execute_result"
    }
   ],
   "source": [
    "train_G.shape, test_G.shape"
   ]
  },
  {
   "cell_type": "code",
   "execution_count": 39,
   "metadata": {},
   "outputs": [
    {
     "data": {
      "text/plain": [
       "((2162, 50, 1), (541, 50, 1))"
      ]
     },
     "execution_count": 39,
     "metadata": {},
     "output_type": "execute_result"
    }
   ],
   "source": [
    "#Add a dimention to the training_data so that it matches the expected format of the model.\n",
    "train_data, test_data = np.expand_dims(train_data,axis=2), np.expand_dims(test_data,axis=2) \n",
    "train_data.shape, test_data.shape "
   ]
  },
  {
   "cell_type": "code",
   "execution_count": 40,
   "metadata": {},
   "outputs": [
    {
     "data": {
      "text/plain": [
       "((2162, 2), (541, 2))"
      ]
     },
     "execution_count": 40,
     "metadata": {},
     "output_type": "execute_result"
    }
   ],
   "source": [
    "#Turn the labels (0,1) into hot-one-encoded vectors.\n",
    "train_G , test_G = get_one_hot(train_G.astype(int),2),get_one_hot(test_G.astype(int),2)\n",
    "train_G.shape, test_G.shape"
   ]
  },
  {
   "cell_type": "markdown",
   "metadata": {},
   "source": [
    "#### Creating our CNN."
   ]
  },
  {
   "cell_type": "code",
   "execution_count": 41,
   "metadata": {},
   "outputs": [
    {
     "name": "stdout",
     "output_type": "stream",
     "text": [
      "CPU times: user 341 ms, sys: 1.21 ms, total: 342 ms\n",
      "Wall time: 341 ms\n"
     ]
    }
   ],
   "source": [
    "%%time\n",
    "\n",
    "small_dataSize = 50\n",
    "small_mse_history = History()\n",
    "lr = 0.001\n",
    "\n",
    "#Init the model.\n",
    "small_model = initialize_model(\"softmax\", small_dataSize,dropout_fraction)\n",
    "#Compile the model.\n",
    "compile_model(small_model, lr, \"categorical_crossentropy\",metrics=[\"accuracy\"])"
   ]
  },
  {
   "cell_type": "code",
   "execution_count": 42,
   "metadata": {
    "scrolled": false
   },
   "outputs": [
    {
     "name": "stdout",
     "output_type": "stream",
     "text": [
      "_________________________________________________________________\n",
      "Layer (type)                 Output Shape              Param #   \n",
      "=================================================================\n",
      "conv1d_3 (Conv1D)            (None, 46, 10)            60        \n",
      "_________________________________________________________________\n",
      "leaky_re_lu_5 (LeakyReLU)    (None, 46, 10)            0         \n",
      "_________________________________________________________________\n",
      "conv1d_4 (Conv1D)            (None, 45, 10)            210       \n",
      "_________________________________________________________________\n",
      "leaky_re_lu_6 (LeakyReLU)    (None, 45, 10)            0         \n",
      "_________________________________________________________________\n",
      "batch_normalization_3 (Batch (None, 45, 10)            40        \n",
      "_________________________________________________________________\n",
      "flatten_2 (Flatten)          (None, 450)               0         \n",
      "_________________________________________________________________\n",
      "dense_4 (Dense)              (None, 100)               45100     \n",
      "_________________________________________________________________\n",
      "leaky_re_lu_7 (LeakyReLU)    (None, 100)               0         \n",
      "_________________________________________________________________\n",
      "batch_normalization_4 (Batch (None, 100)               400       \n",
      "_________________________________________________________________\n",
      "dropout_3 (Dropout)          (None, 100)               0         \n",
      "_________________________________________________________________\n",
      "dense_5 (Dense)              (None, 50)                5050      \n",
      "_________________________________________________________________\n",
      "leaky_re_lu_8 (LeakyReLU)    (None, 50)                0         \n",
      "_________________________________________________________________\n",
      "dropout_4 (Dropout)          (None, 50)                0         \n",
      "_________________________________________________________________\n",
      "dense_6 (Dense)              (None, 2)                 102       \n",
      "=================================================================\n",
      "Total params: 50,962\n",
      "Trainable params: 50,742\n",
      "Non-trainable params: 220\n",
      "_________________________________________________________________\n"
     ]
    }
   ],
   "source": [
    "#Description of model layer by layer.\n",
    "small_model.summary()"
   ]
  },
  {
   "cell_type": "markdown",
   "metadata": {},
   "source": [
    "#### Creating our callbacks that will monitor the training."
   ]
  },
  {
   "cell_type": "code",
   "execution_count": 43,
   "metadata": {},
   "outputs": [],
   "source": [
    "earlyStopping = EarlyStopping(monitor='val_acc', patience=20, verbose=1, mode='auto', min_delta=0.0001,restore_best_weights=True)\n",
    "reduce_lr_loss = ReduceLROnPlateau(monitor='val_acc', factor=0.5, patience=10, min_lr=1e-6,verbose=1, min_delta=1e-3)"
   ]
  },
  {
   "cell_type": "markdown",
   "metadata": {},
   "source": [
    "#### Training the model."
   ]
  },
  {
   "cell_type": "code",
   "execution_count": 44,
   "metadata": {
    "scrolled": false
   },
   "outputs": [
    {
     "name": "stdout",
     "output_type": "stream",
     "text": [
      "Train on 2000 samples, validate on 100 samples\n",
      "Epoch 1/200\n",
      "2000/2000 [==============================] - 2s 1ms/step - loss: 1.8961 - acc: 0.7210 - val_loss: 1.4003 - val_acc: 0.9300\n",
      "Epoch 2/200\n",
      "2000/2000 [==============================] - 0s 106us/step - loss: 1.4106 - acc: 0.8950 - val_loss: 1.2882 - val_acc: 0.9500\n",
      "Epoch 3/200\n",
      "2000/2000 [==============================] - 0s 115us/step - loss: 1.2856 - acc: 0.9275 - val_loss: 1.2145 - val_acc: 0.9500\n",
      "Epoch 4/200\n",
      "2000/2000 [==============================] - 0s 128us/step - loss: 1.1730 - acc: 0.9520 - val_loss: 1.1270 - val_acc: 0.9500\n",
      "Epoch 5/200\n",
      "2000/2000 [==============================] - 0s 123us/step - loss: 1.0878 - acc: 0.9595 - val_loss: 1.0537 - val_acc: 0.9500\n",
      "Epoch 6/200\n",
      "2000/2000 [==============================] - 0s 110us/step - loss: 1.0082 - acc: 0.9665 - val_loss: 0.9832 - val_acc: 0.9500\n",
      "Epoch 7/200\n",
      "2000/2000 [==============================] - 0s 100us/step - loss: 0.9385 - acc: 0.9770 - val_loss: 0.9049 - val_acc: 0.9800\n",
      "Epoch 8/200\n",
      "2000/2000 [==============================] - 0s 113us/step - loss: 0.8650 - acc: 0.9810 - val_loss: 0.8391 - val_acc: 0.9800\n",
      "Epoch 9/200\n",
      "2000/2000 [==============================] - 0s 120us/step - loss: 0.8026 - acc: 0.9840 - val_loss: 0.7730 - val_acc: 0.9900\n",
      "Epoch 10/200\n",
      "2000/2000 [==============================] - 0s 118us/step - loss: 0.7365 - acc: 0.9910 - val_loss: 0.7214 - val_acc: 0.9800\n",
      "Epoch 11/200\n",
      "2000/2000 [==============================] - 0s 120us/step - loss: 0.6925 - acc: 0.9875 - val_loss: 0.6684 - val_acc: 0.9800\n",
      "Epoch 12/200\n",
      "2000/2000 [==============================] - 0s 101us/step - loss: 0.6344 - acc: 0.9900 - val_loss: 0.6152 - val_acc: 0.9900\n",
      "Epoch 13/200\n",
      "2000/2000 [==============================] - 0s 114us/step - loss: 0.5811 - acc: 0.9940 - val_loss: 0.5649 - val_acc: 0.9900\n",
      "Epoch 14/200\n",
      "2000/2000 [==============================] - 0s 120us/step - loss: 0.5408 - acc: 0.9920 - val_loss: 0.5212 - val_acc: 1.0000\n",
      "Epoch 15/200\n",
      "2000/2000 [==============================] - 0s 113us/step - loss: 0.4976 - acc: 0.9940 - val_loss: 0.4862 - val_acc: 0.9900\n",
      "Epoch 16/200\n",
      "2000/2000 [==============================] - 0s 117us/step - loss: 0.4633 - acc: 0.9945 - val_loss: 0.4476 - val_acc: 1.0000\n",
      "Epoch 17/200\n",
      "2000/2000 [==============================] - 0s 119us/step - loss: 0.4272 - acc: 0.9955 - val_loss: 0.4095 - val_acc: 1.0000\n",
      "Epoch 18/200\n",
      "2000/2000 [==============================] - 0s 130us/step - loss: 0.3958 - acc: 0.9960 - val_loss: 0.3783 - val_acc: 1.0000\n",
      "Epoch 19/200\n",
      "2000/2000 [==============================] - 0s 117us/step - loss: 0.3642 - acc: 0.9960 - val_loss: 0.3570 - val_acc: 1.0000\n",
      "Epoch 20/200\n",
      "2000/2000 [==============================] - 0s 125us/step - loss: 0.3360 - acc: 0.9970 - val_loss: 0.3331 - val_acc: 1.0000\n",
      "Epoch 21/200\n",
      "2000/2000 [==============================] - 0s 111us/step - loss: 0.3133 - acc: 0.9990 - val_loss: 0.3070 - val_acc: 1.0000\n",
      "Epoch 22/200\n",
      "2000/2000 [==============================] - 0s 106us/step - loss: 0.2874 - acc: 0.9990 - val_loss: 0.2834 - val_acc: 1.0000\n",
      "Epoch 23/200\n",
      "2000/2000 [==============================] - 0s 100us/step - loss: 0.2658 - acc: 0.9985 - val_loss: 0.2686 - val_acc: 0.9900\n",
      "Epoch 24/200\n",
      "2000/2000 [==============================] - 0s 96us/step - loss: 0.2458 - acc: 0.9985 - val_loss: 0.2521 - val_acc: 0.9900\n",
      "\n",
      "Epoch 00024: ReduceLROnPlateau reducing learning rate to 0.0005000000237487257.\n",
      "Epoch 25/200\n",
      "2000/2000 [==============================] - 0s 102us/step - loss: 0.2308 - acc: 1.0000 - val_loss: 0.2372 - val_acc: 0.9900\n",
      "Epoch 26/200\n",
      "2000/2000 [==============================] - 0s 120us/step - loss: 0.2201 - acc: 1.0000 - val_loss: 0.2258 - val_acc: 0.9900\n",
      "Epoch 27/200\n",
      "2000/2000 [==============================] - 0s 120us/step - loss: 0.2112 - acc: 0.9990 - val_loss: 0.2161 - val_acc: 1.0000\n",
      "Epoch 28/200\n",
      "2000/2000 [==============================] - 0s 117us/step - loss: 0.2037 - acc: 0.9990 - val_loss: 0.2087 - val_acc: 0.9900\n",
      "Epoch 29/200\n",
      "2000/2000 [==============================] - 0s 108us/step - loss: 0.1929 - acc: 1.0000 - val_loss: 0.2014 - val_acc: 0.9900\n",
      "Epoch 30/200\n",
      "2000/2000 [==============================] - 0s 116us/step - loss: 0.1867 - acc: 0.9990 - val_loss: 0.1920 - val_acc: 0.9900\n",
      "Epoch 31/200\n",
      "2000/2000 [==============================] - 0s 113us/step - loss: 0.1797 - acc: 0.9995 - val_loss: 0.1843 - val_acc: 1.0000\n",
      "Epoch 32/200\n",
      "2000/2000 [==============================] - 0s 104us/step - loss: 0.1713 - acc: 0.9990 - val_loss: 0.1774 - val_acc: 1.0000\n",
      "Epoch 33/200\n",
      "2000/2000 [==============================] - 0s 115us/step - loss: 0.1644 - acc: 0.9990 - val_loss: 0.1662 - val_acc: 1.0000\n",
      "Epoch 34/200\n",
      "2000/2000 [==============================] - 0s 117us/step - loss: 0.1590 - acc: 0.9995 - val_loss: 0.1614 - val_acc: 1.0000\n",
      "Restoring model weights from the end of the best epoch\n",
      "\n",
      "Epoch 00034: ReduceLROnPlateau reducing learning rate to 0.0002500000118743628.\n",
      "Epoch 00034: early stopping\n"
     ]
    }
   ],
   "source": [
    "history = small_model.fit(train_data[:2000], train_G[:2000], batch_size=100, epochs=200, verbose=1, callbacks=[small_mse_history,earlyStopping,reduce_lr_loss \n",
    "                ],validation_data=(test_data[:100], test_G[:100]),shuffle=True)"
   ]
  },
  {
   "cell_type": "markdown",
   "metadata": {},
   "source": [
    "#### Evolution of the training vs validation Loss and Accuracy over the Epochs."
   ]
  },
  {
   "cell_type": "code",
   "execution_count": 45,
   "metadata": {},
   "outputs": [
    {
     "data": {
      "image/png": "[encoded data removed]",
      "text/plain": [
       "<Figure size 432x288 with 1 Axes>"
      ]
     },
     "metadata": {},
     "output_type": "display_data"
    },
    {
     "data": {
      "image/png": "[encoded data removed]",
      "text/plain": [
       "<Figure size 432x288 with 1 Axes>"
      ]
     },
     "metadata": {},
     "output_type": "display_data"
    }
   ],
   "source": [
    "# summarize history for accuracy\n",
    "plt.plot(small_mse_history.history['acc'])\n",
    "plt.plot(small_mse_history.history['val_acc'])\n",
    "plt.title('model accuracy')\n",
    "plt.ylabel('accuracy')\n",
    "plt.xlabel('epoch')\n",
    "plt.legend(['train', 'valid'], loc='upper left')\n",
    "plt.show()\n",
    "# summarize history for loss\n",
    "plt.plot(small_mse_history.history['loss'])\n",
    "plt.plot(small_mse_history.history['val_loss'])\n",
    "plt.title('model loss')\n",
    "plt.ylabel('loss')\n",
    "plt.xlabel('epoch')\n",
    "plt.legend(['train', 'valid'], loc='upper left')\n",
    "plt.show()"
   ]
  },
  {
   "cell_type": "markdown",
   "metadata": {},
   "source": [
    "#### Visualisation of the results for the CNN."
   ]
  },
  {
   "cell_type": "code",
   "execution_count": 46,
   "metadata": {},
   "outputs": [
    {
     "name": "stdout",
     "output_type": "stream",
     "text": [
      "441/441 [==============================] - 0s 52us/step\n",
      "Test loss :  0.5083362137108973 ; Overall test accuracy :  1.0\n"
     ]
    }
   ],
   "source": [
    "#Score on the test set.\n",
    "pred_score = small_model.evaluate(test_data[100:], test_G[100:], batch_size=100, verbose=1)\n",
    "print(\"Test loss : \",pred_score[0],\"; Overall test accuracy : \",pred_score[1])"
   ]
  },
  {
   "cell_type": "code",
   "execution_count": 47,
   "metadata": {},
   "outputs": [
    {
     "name": "stdout",
     "output_type": "stream",
     "text": [
      "441/441 [==============================] - 0s 322us/step\n"
     ]
    }
   ],
   "source": [
    "# Convert one-hot to index and do the prediction on the test set.\n",
    "Y_test = np.argmax(test_G[100:], axis=1) \n",
    "y_pred = small_model.predict(test_data[100:],verbose=1)\n",
    "y_class = np.argmax(y_pred,axis=1)"
   ]
  },
  {
   "cell_type": "code",
   "execution_count": 48,
   "metadata": {},
   "outputs": [
    {
     "name": "stdout",
     "output_type": "stream",
     "text": [
      "                     Classification Report \n",
      "\n",
      "              precision    recall  f1-score   support\n",
      "\n",
      "           0       1.00      1.00      1.00       216\n",
      "           1       1.00      1.00      1.00       225\n",
      "\n",
      "   micro avg       1.00      1.00      1.00       441\n",
      "   macro avg       1.00      1.00      1.00       441\n",
      "weighted avg       1.00      1.00      1.00       441\n",
      " \n",
      "\n",
      "                                      Normalized Confusion Matrix \n"
     ]
    },
    {
     "data": {
      "image/png": "[encoded data removed]",
      "text/plain": [
       "<Figure size 504x288 with 2 Axes>"
      ]
     },
     "metadata": {},
     "output_type": "display_data"
    }
   ],
   "source": [
    "#Confution Matrix and Classification Report\n",
    "\n",
    "cfm = confusion_matrix(Y_test, y_class)\n",
    "cfm = cfm.astype('int') #/ cfm.sum(axis=1)[:, np.newaxis]\n",
    "df_cm = pd.DataFrame(cfm, range(2),range(2))\n",
    "plt.figure(figsize = (7,4))\n",
    "plt.xlabel('Predicted') \n",
    "plt.ylabel('True Label')\n",
    "sn.set(font_scale=1.2)#for label size\n",
    "sn.heatmap(df_cm, annot=True,annot_kws={\"size\": 12})# font size\n",
    "plt.xlabel('Predicted') \n",
    "plt.ylabel('True Label')\n",
    "print('                     Classification Report \\n')\n",
    "print(classification_report(Y_test, y_class ),'\\n')\n",
    "print('                                      Normalized Confusion Matrix ')"
   ]
  },
  {
   "cell_type": "markdown",
   "metadata": {},
   "source": [
    "#### Calculate and plot the distributions of softmax activations for Good vs Bad classifications."
   ]
  },
  {
   "cell_type": "code",
   "execution_count": 53,
   "metadata": {},
   "outputs": [
    {
     "data": {
      "image/png": "[encoded data removed]",
      "text/plain": [
       "<Figure size 432x288 with 1 Axes>"
      ]
     },
     "metadata": {
      "needs_background": "light"
     },
     "output_type": "display_data"
    },
    {
     "data": {
      "text/plain": [
       "'\\nbad_id = np.argwhere(Y_test != y_class)\\nY_err = Y_test[bad_id].reshape(4,)\\ny_bad = y_pred[bad_id]\\ny_bad = np.max(y_bad,axis=2)\\ny_bad.reshape(4,).shape\\n\\nplt.hist(y_bad, range =(0.40, 1.0), bins=10)\\nplt.xlabel(\\'Softmax probability\\')\\nplt.ylabel(\\'Number of classification\\');\\nplt.title(\"Distribution of activations for bad classifications\")\\nplt.show() \\n\\n'"
      ]
     },
     "execution_count": 53,
     "metadata": {},
     "output_type": "execute_result"
    }
   ],
   "source": [
    "good_id = np.argwhere((Y_test == y_class))\n",
    "good_id.shape\n",
    "\n",
    "y_pred.shape\n",
    "y_good = y_pred[good_id]\n",
    "y_good = np.max(y_good,axis=2)\n",
    "y_good.reshape(441,).shape\n",
    "\n",
    "\n",
    "plt.hist(y_good, range =(0.4, 1.0), bins=10)\n",
    "plt.xlabel('Softmax probability')\n",
    "plt.ylabel('Number of classification');\n",
    "plt.title(\"Distribution of activations for good classifications\")\n",
    "plt.show()\n"
   ]
  },
  {
   "cell_type": "markdown",
   "metadata": {},
   "source": [
    "# Conclusion."
   ]
  },
  {
   "cell_type": "markdown",
   "metadata": {},
   "source": [
    "First of all we should start by stating that the dev-clean set of Librispeech is a very easy dataset for this kind of classification taks. It consists of read speech without any perturbation, noise or speech overlap, that's in part why we see such high results with relatively simple modeAs expected the models and the base algorithms that assume indepence of features perform a little bit worst than the Neural Networks. It could also be down to the complexity of the models. Logistic regression beats Naive bayes, it is true that when the training set size get very large the discriminative model (LR) performs better than the generative Naive Bayes, but in our case the training size is relatively small. The performance of the CNN and FCN are pretty close the eadge that the CNN have here could be due to the complexity of the CNN i designed. The 1.0 accuracy for the CNN is anegdotic and should not be taken as the real performance, since we should average at least 10 runs before having a good approximation. The high accuraccy scores could be explained from the fact that we are using a clean data with a pretty good SNR and single readers on each tape which make the classification problem much easier."
   ]
  },
  {
   "cell_type": "code",
   "execution_count": null,
   "metadata": {},
   "outputs": [],
   "source": []
  }
 ],
 "metadata": {
  "kernelspec": {
   "display_name": "Python 3",
   "language": "python",
   "name": "python3"
  },
  "language_info": {
   "codemirror_mode": {
    "name": "ipython",
    "version": 3
   },
   "file_extension": ".py",
   "mimetype": "text/x-python",
   "name": "python",
   "nbconvert_exporter": "python",
   "pygments_lexer": "ipython3",
   "version": "3.7.2"
  }
 },
 "nbformat": 4,
 "nbformat_minor": 2
}
